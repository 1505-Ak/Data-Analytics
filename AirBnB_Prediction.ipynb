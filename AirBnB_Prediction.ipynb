# Import necessary libraries
import numpy as np
import pandas as pd
import matplotlib.pyplot as plt
from sklearn.model_selection import train_test_split
from sklearn.linear_model import LinearRegression
from sklearn.metrics import mean_squared_error, r2_score

# Create a sample dataset
np.random.seed(0)
temperature = np.random.uniform(0, 100, 100).reshape(-1, 1)
pressure = 1000 + 10 * temperature + np.random.normal(0, 100, 100).reshape(-1, 1)

# Convert the data into a pandas DataFrame
data = pd.DataFrame({'Temperature': temperature.flatten(), 'Pressure': pressure.flatten()})

# Visualize the data
plt.scatter(data['Temperature'], data['Pressure'])
plt.xlabel('Temperature (Celsius)')
plt.ylabel('Pressure (Pascal)')
plt.title('Temperature vs Pressure')
plt.show()

# Split the dataset into training and testing sets
X_train, X_test, y_train, y_test = train_test_split(data[['Temperature']], data['Pressure'], test_size=0.2, random_state=42)

# Create and train the linear regression model
model = LinearRegression()
model.fit(X_train, y_train)

# Make predictions on the test set
y_pred = model.predict(X_test)

# Evaluate the model
mse = mean_squared_error(y_test, y_pred)
r2 = r2_score(y_test, y_pred)
print('Mean Squared Error:', mse)
print('R^2 Score:', r2)

# Visualize the linear regression line
plt.scatter(X_test, y_test, color='blue')
plt.plot(X_test, y_pred, color='red')
plt.xlabel('Temperature (Celsius)')
plt.ylabel('Pressure (Pascal)')
plt.title('Linear Regression Model')
plt.show()
